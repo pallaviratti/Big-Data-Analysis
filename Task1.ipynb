{
 "cells": [
  {
   "cell_type": "code",
   "execution_count": 1,
   "id": "70fbda1e-d449-4bc0-b446-bad09b9ea3c1",
   "metadata": {},
   "outputs": [
    {
     "name": "stdout",
     "output_type": "stream",
     "text": [
      "Pandas Computation Time: 8.732322216033936\n",
      "Dask Computation Time: 6.572553396224976\n",
      "Pandas Mean: value1    50.000836\n",
      "value2    50.002596\n",
      "dtype: float64\n",
      "Dask Mean: value1    50.000836\n",
      "value2    50.002596\n",
      "dtype: float64\n"
     ]
    }
   ],
   "source": [
    "import dask.dataframe as dd\n",
    "import pandas as pd\n",
    "import time\n",
    "\n",
    "# Generate a large CSV file (Optional - if you need sample data)\n",
    "import numpy as np\n",
    "num_rows = 10**7  # 10 million rows\n",
    "data = {\n",
    "    'id': np.arange(num_rows),\n",
    "    'value1': np.random.rand(num_rows) * 100,\n",
    "    'value2': np.random.rand(num_rows) * 100\n",
    "}\n",
    "pd.DataFrame(data).to_csv('large_dataset.csv', index=False)\n",
    "\n",
    "# Load dataset using Pandas\n",
    "start_time = time.time()\n",
    "pdf = pd.read_csv('large_dataset.csv')\n",
    "pandas_mean = pdf[['value1', 'value2']].mean()\n",
    "pandas_time = time.time() - start_time\n",
    "\n",
    "# Load dataset using Dask\n",
    "start_time = time.time()\n",
    "ddf = dd.read_csv('large_dataset.csv')\n",
    "dask_mean = ddf[['value1', 'value2']].mean().compute()\n",
    "dask_time = time.time() - start_time\n",
    "\n",
    "# Output comparison\n",
    "print(\"Pandas Computation Time:\", pandas_time)\n",
    "print(\"Dask Computation Time:\", dask_time)\n",
    "print(\"Pandas Mean:\", pandas_mean)\n",
    "print(\"Dask Mean:\", dask_mean)\n"
   ]
  },
  {
   "cell_type": "code",
   "execution_count": null,
   "id": "a6428f6f-ac44-422d-91b9-18219bcfe891",
   "metadata": {},
   "outputs": [],
   "source": []
  }
 ],
 "metadata": {
  "kernelspec": {
   "display_name": "Python 3 (ipykernel)",
   "language": "python",
   "name": "python3"
  },
  "language_info": {
   "codemirror_mode": {
    "name": "ipython",
    "version": 3
   },
   "file_extension": ".py",
   "mimetype": "text/x-python",
   "name": "python",
   "nbconvert_exporter": "python",
   "pygments_lexer": "ipython3",
   "version": "3.12.4"
  }
 },
 "nbformat": 4,
 "nbformat_minor": 5
}
